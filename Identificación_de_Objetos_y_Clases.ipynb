{
  "nbformat": 4,
  "nbformat_minor": 0,
  "metadata": {
    "colab": {
      "provenance": [],
      "include_colab_link": true
    },
    "kernelspec": {
      "name": "python3",
      "display_name": "Python 3"
    },
    "language_info": {
      "name": "python"
    }
  },
  "cells": [
    {
      "cell_type": "markdown",
      "metadata": {
        "id": "view-in-github",
        "colab_type": "text"
      },
      "source": [
        "<a href=\"https://colab.research.google.com/github/UrielCamach0/APP-CON-TKINTER/blob/main/Identificaci%C3%B3n_de_Objetos_y_Clases.ipynb\" target=\"_parent\"><img src=\"https://colab.research.google.com/assets/colab-badge.svg\" alt=\"Open In Colab\"/></a>"
      ]
    },
    {
      "cell_type": "markdown",
      "source": [
        "# DIAGRAMA DE CLASES"
      ],
      "metadata": {
        "id": "gvo2pg-8a6mu"
      }
    },
    {
      "cell_type": "code",
      "source": [
        "@startuml\n",
        "class Cliente {\n",
        "    - nombre: str\n",
        "    - correo: str\n",
        "    - telefono: str\n",
        "    - contraseña: str\n",
        "    + realizar_reserva()\n",
        "    + modificar_reserva()\n",
        "    + cancelar_reserva()\n",
        "}\n",
        "\n",
        "class Mesa {\n",
        "    - numero: int\n",
        "    - capacidad: int\n",
        "    - ubicacion: str\n",
        "    + verificar_disponibilidad()\n",
        "}\n",
        "\n",
        "class Reserva {\n",
        "    - id_reserva: str\n",
        "    - fecha: str\n",
        "    - hora: str\n",
        "    - num_comensales: int\n",
        "    - cliente: Cliente\n",
        "    - mesa: Mesa\n",
        "    + generar_codigo()\n",
        "    + verificar_disponibilidad()\n",
        "    + confirmar_reserva()\n",
        "}\n",
        "\n",
        "class Notificacion {\n",
        "    + enviar_correo()\n",
        "}\n",
        "\n",
        "class Reporte {\n",
        "    + generar_reporte_ocupacion()\n",
        "}\n",
        "\n",
        "Cliente \"1\" --> \"0..*\" Reserva\n",
        "Mesa \"1\" --> \"0..*\" Reserva\n",
        "Reserva --> Notificacion\n",
        "Reserva --> Reporte\n",
        "@enduml\n"
      ],
      "metadata": {
        "id": "rN1Thd6abLs4"
      },
      "execution_count": null,
      "outputs": []
    },
    {
      "cell_type": "markdown",
      "source": [
        "# DEFINICION DE CLASES EN PYTHON"
      ],
      "metadata": {
        "id": "gOgVftUPbxbP"
      }
    },
    {
      "cell_type": "code",
      "source": [
        "import uuid\n",
        "\n",
        "class Cliente:\n",
        "    def __init__(self, nombre, correo, telefono, contraseña):\n",
        "        self.__nombre = nombre\n",
        "        self.__correo = correo\n",
        "        self.__telefono = telefono\n",
        "        self.__contraseña = contraseña\n",
        "\n",
        "    def realizar_reserva(self, reserva):\n",
        "        print(f\"Reserva realizada por {self.__nombre}: {reserva}\")\n",
        "\n",
        "    def modificar_reserva(self, reserva_id):\n",
        "        print(f\"Reserva {reserva_id} modificada\")\n",
        "\n",
        "    def cancelar_reserva(self, reserva_id):\n",
        "        print(f\"Reserva {reserva_id} cancelada\")\n",
        "\n",
        "\n",
        "class Mesa:\n",
        "    def __init__(self, numero, capacidad, ubicacion):\n",
        "        self.__numero = numero\n",
        "        self.__capacidad = capacidad\n",
        "        self.__ubicacion = ubicacion\n",
        "\n",
        "    def verificar_disponibilidad(self, fecha, hora):\n",
        "        print(f\"Verificando disponibilidad de mesa {self.__numero} para {fecha} a las {hora}\")\n",
        "        return True  # Simulación\n",
        "\n",
        "\n",
        "class Reserva:\n",
        "    def __init__(self, fecha, hora, num_comensales, cliente, mesa):\n",
        "        self.__id_reserva = str(uuid.uuid4())[:8]\n",
        "        self.__fecha = fecha\n",
        "        self.__hora = hora\n",
        "        self.__num_comensales = num_comensales\n",
        "        self.__cliente = cliente\n",
        "        self.__mesa = mesa\n",
        "\n",
        "    def generar_codigo(self):\n",
        "        return f\"RES-{self.__id_reserva}\"\n",
        "\n",
        "    def verificar_disponibilidad(self):\n",
        "        return self.__mesa.verificar_disponibilidad(self.__fecha, self.__hora)\n",
        "\n",
        "    def confirmar_reserva(self):\n",
        "        if self.verificar_disponibilidad():\n",
        "            print(f\"Reserva confirmada: {self.generar_codigo()}\")\n",
        "            Notificacion.enviar_correo(self.__cliente, \"Confirmación de reserva\")\n",
        "        else:\n",
        "            print(\"No hay disponibilidad\")\n",
        "\n",
        "\n",
        "class Notificacion:\n",
        "    @staticmethod\n",
        "    def enviar_correo(cliente, mensaje):\n",
        "        print(f\"Enviando correo a {cliente._Cliente__correo}: {mensaje}\")\n",
        "\n",
        "\n",
        "class Reporte:\n",
        "    @staticmethod\n",
        "    def generar_reporte_ocupacion():\n",
        "        print(\"Generando reporte de ocupación...\")\n"
      ],
      "metadata": {
        "id": "x8rdnLkbb2dU"
      },
      "execution_count": null,
      "outputs": []
    }
  ]
}